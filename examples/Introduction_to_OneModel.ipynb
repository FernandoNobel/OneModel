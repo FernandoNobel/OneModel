{
 "cells": [
  {
   "cell_type": "markdown",
   "metadata": {
    "id": "DYkIxvRlybd7"
   },
   "source": [
    "# OneModel: an open-source SBML modeling tool focused on accessibility, simplicity and modularity"
   ]
  },
  {
   "cell_type": "markdown",
   "metadata": {
    "id": "V5hNQzNCZ6aj"
   },
   "source": [
    "## Install OneModel and dependencies needed for the workshop"
   ]
  },
  {
   "cell_type": "code",
   "execution_count": null,
   "metadata": {
    "colab": {
     "base_uri": "https://localhost:8080/"
    },
    "id": "T-XV95P3yKaJ",
    "outputId": "1832869e-7588-4651-c511-2cdbc28e6d84",
    "scrolled": true
   },
   "outputs": [],
   "source": [
    "!pip install -I --no-cache-dir https://github.com/fernandonobel/onemodel/archive/collab.zip"
   ]
  },
  {
   "cell_type": "markdown",
   "metadata": {
    "id": "kZ_PiD7oW2Nw"
   },
   "source": [
    "## PART 1: How to model biological processes using OneModel"
   ]
  },
  {
   "cell_type": "markdown",
   "metadata": {
    "id": "PLjanPdaXIMV"
   },
   "source": [
    "### Exercise 01: The OneModel REPL (Read-Eval-Print Loop)\n",
    "\n",
    "OneModel has an interactive command-line REPL (read-eval-print loop).\n",
    "\n",
    "**Task:** Try to use the OneModel REPL build a model interactively.\n",
    "\n",
    "**Time limit:** 5 minutes.\n",
    "\n",
    "For example, \n",
    "\n",
    "```\n",
    "my_variable = 10\n",
    "parameter a = 0\n",
    "```\n",
    "\n",
    "**Supporting material:** Link to the documentation.\n",
    "\n",
    "**Note:** use only single-line commands. To use a multiline command (i.e. a parameter block) you have to introduce manually intro lines using `;`\n",
    "\n",
    "For example,\n",
    "\n",
    "```\n",
    "# Multi-line version of a parameter block.\n",
    "parameter\n",
    "  foo = 10\n",
    "  bar = 20\n",
    "end\n",
    "\n",
    "# Singe-line parameter block.\n",
    "parameter; foo = 10; bar = 20; end\n",
    "\n",
    "# Even easier just use regular single-line commands.\n",
    "parameter foo = 10\n",
    "parameter bar = 20\n",
    "```"
   ]
  },
  {
   "cell_type": "code",
   "execution_count": 1,
   "metadata": {
    "colab": {
     "base_uri": "https://localhost:8080/"
    },
    "id": "T5YktguX-IZU",
    "outputId": "4ab2188d-ea82-4267-cec5-4d670f84ef84",
    "scrolled": true
   },
   "outputs": [
    {
     "name": "stdout",
     "output_type": "stream",
     "text": [
      "OneModel v1.0.0\n",
      "Documentation: https://onemodel.readthedocs.io/\n",
      "\n",
      "one> exit()\n",
      "\n",
      "=== Built-in and user-defined variables =============\n",
      "Names and values\n",
      "----------------\n",
      "\n",
      "locals : <builtin-function>\n",
      "globals : <builtin-function>\n",
      "print : <builtin-function>\n",
      "exit : <builtin-function>\n",
      "__file__ : '/home/nobel/Sync/projects/python/onemodel/examples'\n",
      "__exit__ : 1\n",
      "__name__ : '__main__'\n",
      "\n",
      "\n",
      "=== SBML representation of the model ================\n",
      "<?xml version=\"1.0\" encoding=\"UTF-8\"?>\n",
      "<sbml xmlns=\"http://www.sbml.org/sbml/level3/version2/core\" level=\"3\" version=\"2\">\n",
      "  <model id=\"main\" name=\"main\" substanceUnits=\"mole\" timeUnits=\"second\" extentUnits=\"mole\">\n",
      "    <listOfUnitDefinitions>\n",
      "      <unitDefinition id=\"per_second\">\n",
      "        <listOfUnits>\n",
      "          <unit kind=\"second\" exponent=\"-1\" scale=\"0\" multiplier=\"1\"/>\n",
      "        </listOfUnits>\n",
      "      </unitDefinition>\n",
      "    </listOfUnitDefinitions>\n",
      "    <listOfCompartments>\n",
      "      <compartment id=\"default_compartment\" spatialDimensions=\"3\" size=\"1\" units=\"litre\" constant=\"true\"/>\n",
      "    </listOfCompartments>\n",
      "  </model>\n",
      "</sbml>\n",
      "\n"
     ]
    }
   ],
   "source": [
    "import onemodel as one\n",
    "\n",
    "model = one.shell()\n",
    "\n",
    "print(\"\\n=== Built-in and user-defined variables =============\")\n",
    "print(model)\n",
    "\n",
    "print(\"\\n=== SBML representation of the model ================\")\n",
    "sbml = model.get_SBML_string()\n",
    "print(sbml)\n"
   ]
  },
  {
   "cell_type": "markdown",
   "metadata": {},
   "source": [
    "### Exercise 02: Define models using scripts\n",
    "\n",
    "Instead of using the OneModel REPL, we can define models permanently using scripts."
   ]
  },
  {
   "cell_type": "code",
   "execution_count": 1,
   "metadata": {},
   "outputs": [
    {
     "name": "stdout",
     "output_type": "stream",
     "text": [
      "Names and values\n",
      "----------------\n",
      "\n",
      "R1 : <rate-rule eq='der(x) := k - d*x'>\n",
      "x : <species>\n",
      "d : <parameter value=0.1>\n",
      "k : <parameter value=10>\n",
      "locals : <builtin-function>\n",
      "globals : <builtin-function>\n",
      "print : <builtin-function>\n",
      "exit : <builtin-function>\n",
      "__file__ : '/home/nobel/Sync/projects/python/onemodel/examples'\n",
      "__exit__ : False\n",
      "__name__ : '__main__'\n",
      "\n"
     ]
    }
   ],
   "source": [
    "import onemodel as one\n",
    "\n",
    "model_code = \"\"\"\n",
    "parameter \n",
    "    k = 10\n",
    "    d = 0.1\n",
    "end\n",
    "\n",
    "species x = 0\n",
    "\n",
    "rule R1: der(x) := k - d*x\n",
    "\"\"\"\n",
    "\n",
    "model = one.evaluate(model_code)\n",
    "\n",
    "print(model)"
   ]
  },
  {
   "cell_type": "markdown",
   "metadata": {},
   "source": [
    "### Exercise 03: Load a script from a file"
   ]
  },
  {
   "cell_type": "code",
   "execution_count": 1,
   "metadata": {
    "scrolled": false
   },
   "outputs": [
    {
     "name": "stdout",
     "output_type": "stream",
     "text": [
      "Names and values\n",
      "----------------\n",
      "\n",
      "_J3 : <reaction eq='protein -> 0 ; d_p*protein'>\n",
      "_J2 : <reaction eq='mRNA -> mRNA + protein ; k_p*mRNA'>\n",
      "_J1 : <reaction eq='mRNA -> 0 ; d_m*mRNA'>\n",
      "_J0 : <reaction eq='0 -> mRNA ; k_m'>\n",
      "d_p : <parameter value=1>\n",
      "k_p : <parameter value=1>\n",
      "d_m : <parameter value=1>\n",
      "k_m : <parameter value=1>\n",
      "protein : <species initial_value=0>\n",
      "mRNA : <species initial_value=0>\n",
      "locals : <builtin-function>\n",
      "globals : <builtin-function>\n",
      "print : <builtin-function>\n",
      "exit : <builtin-function>\n",
      "__file__ : '/home/nobel/Sync/projects/python/onemodel/examples/ex01_simple_gene_expression.one'\n",
      "__exit__ : False\n",
      "__name__ : '__main__'\n",
      "\n"
     ]
    }
   ],
   "source": [
    "import onemodel as one\n",
    "\n",
    "filename = \"ex01_simple_gene_expression.one\"\n",
    "\n",
    "model = one.load(filename)\n",
    "\n",
    "print(model)"
   ]
  },
  {
   "cell_type": "markdown",
   "metadata": {},
   "source": [
    "### Exercise 4: Model constitutive protein expression"
   ]
  },
  {
   "cell_type": "code",
   "execution_count": 2,
   "metadata": {
    "scrolled": true
   },
   "outputs": [
    {
     "name": "stdout",
     "output_type": "stream",
     "text": [
      "Names and values\n",
      "----------------\n",
      "\n",
      "_J3 : <reaction eq='protein -> 0 ; d_p*protein'>\n",
      "_J2 : <reaction eq='mRNA -> mRNA + protein ; k_p*mRNA'>\n",
      "_J1 : <reaction eq='mRNA -> 0 ; d_m*mRNA'>\n",
      "_J0 : <reaction eq='0 -> mRNA ; k_m'>\n",
      "d_p : <parameter value=1>\n",
      "k_p : <parameter value=1>\n",
      "d_m : <parameter value=1>\n",
      "k_m : <parameter value=1>\n",
      "protein : <species initial_value=0>\n",
      "mRNA : <species initial_value=0>\n",
      "locals : <builtin-function>\n",
      "globals : <builtin-function>\n",
      "print : <builtin-function>\n",
      "exit : <builtin-function>\n",
      "__file__ : '/home/nobel/Sync/projects/python/onemodel/examples'\n",
      "__exit__ : False\n",
      "__name__ : '__main__'\n",
      "\n"
     ]
    }
   ],
   "source": [
    "import onemodel as one\n",
    "\n",
    "model_code = \"\"\"\n",
    "### Simple gene expression model. ###\n",
    "\n",
    "species       # Start declaring species.\n",
    "  mRNA=0      # mRNA concentration.\n",
    "  protein=0   # Protein concentration.\n",
    "end           # End declaring species.\n",
    "\n",
    "parameter     # Start declaring parameters.\n",
    "  k_m=1       # mRNA transcription rate.\n",
    "  d_m=1       # mRNA degradation rate.\n",
    "  k_p=1       # Protein translation rate.\n",
    "  d_p=1       # Protein degradation rate.\n",
    "end           # End delaring parameters.\n",
    "\n",
    "reaction                                # Start declaring reactions.\n",
    "  0 -> mRNA              ; k_m          # mRNA transcription.\n",
    "  mRNA -> 0              ; d_m*mRNA     # mRNA degradation.\n",
    "  mRNA -> mRNA + protein ; k_p*mRNA     # Protein translation.\n",
    "  protein -> 0           ; d_p*protein  # Protein degradation.\n",
    "end                                     # Stop declaring reactions.\n",
    "\"\"\"\n",
    "\n",
    "model = one.evaluate(model_code)\n",
    "\n",
    "print(model)"
   ]
  },
  {
   "cell_type": "markdown",
   "metadata": {
    "id": "kZ_PiD7oW2Nw"
   },
   "source": [
    "## PART 2: How to reuse and extend your models using OneModel"
   ]
  }
 ],
 "metadata": {
  "colab": {
   "collapsed_sections": [],
   "provenance": []
  },
  "kernelspec": {
   "display_name": "Python 3 (ipykernel)",
   "language": "python",
   "name": "python3"
  },
  "language_info": {
   "codemirror_mode": {
    "name": "ipython",
    "version": 3
   },
   "file_extension": ".py",
   "mimetype": "text/x-python",
   "name": "python",
   "nbconvert_exporter": "python",
   "pygments_lexer": "ipython3",
   "version": "3.7.2"
  }
 },
 "nbformat": 4,
 "nbformat_minor": 1
}
