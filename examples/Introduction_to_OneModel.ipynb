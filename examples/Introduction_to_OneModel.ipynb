{
 "cells": [
  {
   "cell_type": "markdown",
   "metadata": {
    "id": "DYkIxvRlybd7"
   },
   "source": [
    "# OneModel: an open-source SBML modeling tool focused on accessibility, simplicity and modularity"
   ]
  },
  {
   "cell_type": "markdown",
   "metadata": {
    "id": "V5hNQzNCZ6aj"
   },
   "source": [
    "## Install OneModel and dependencies needed for the workshop"
   ]
  },
  {
   "cell_type": "code",
   "execution_count": null,
   "metadata": {
    "colab": {
     "base_uri": "https://localhost:8080/"
    },
    "id": "T-XV95P3yKaJ",
    "outputId": "1832869e-7588-4651-c511-2cdbc28e6d84",
    "scrolled": true
   },
   "outputs": [],
   "source": [
    "!pip install -I --no-cache-dir https://github.com/fernandonobel/onemodel/archive/collab.zip"
   ]
  },
  {
   "cell_type": "markdown",
   "metadata": {
    "id": "kZ_PiD7oW2Nw"
   },
   "source": [
    "## PART 1: How to model biological processes using OneModel"
   ]
  },
  {
   "cell_type": "markdown",
   "metadata": {
    "id": "PLjanPdaXIMV"
   },
   "source": [
    "### Exercise 01: The OneModel REPL (Read-Eval-Print Loop)\n",
    "\n",
    "OneModel has an interactive command-line REPL (read-eval-print loop).\n",
    "\n",
    "**Task:** Try to use the OneModel REPL build a model interactively.\n",
    "\n",
    "**Time limit:** 5 minutes.\n",
    "\n",
    "For example, \n",
    "\n",
    "```\n",
    "my_variable = 10\n",
    "parameter a = 0\n",
    "```\n",
    "\n",
    "**Supporting material:** Link to the documentation.\n",
    "\n",
    "**Note:** use only single-line commands. To use a multiline command (i.e. a parameter block) you have to introduce manually intro lines using `;`\n",
    "\n",
    "For example,\n",
    "\n",
    "```\n",
    "# Multi-line version of a parameter block.\n",
    "parameter\n",
    "  foo = 10\n",
    "  bar = 20\n",
    "end\n",
    "\n",
    "# Singe-line parameter block.\n",
    "parameter; foo = 10; bar = 20; end\n",
    "\n",
    "# Even easier just use regular single-line commands.\n",
    "parameter foo = 10\n",
    "parameter bar = 20\n",
    "```"
   ]
  },
  {
   "cell_type": "code",
   "execution_count": null,
   "metadata": {
    "colab": {
     "base_uri": "https://localhost:8080/"
    },
    "id": "T5YktguX-IZU",
    "outputId": "4ab2188d-ea82-4267-cec5-4d670f84ef84",
    "scrolled": true
   },
   "outputs": [],
   "source": [
    "import onemodel as one\n",
    "\n",
    "model = one.shell()\n",
    "\n",
    "print(\"\\n=== Built-in and user-defined variables =============\")\n",
    "print(model)\n",
    "\n",
    "print(\"\\n=== SBML representation of the model ================\")\n",
    "sbml = model.get_SBML_string()\n",
    "print(sbml)\n"
   ]
  },
  {
   "cell_type": "markdown",
   "metadata": {},
   "source": [
    "### Exercise 02: Define models using scripts\n",
    "\n",
    "Instead of using the OneModel REPL, we can define models permanently using scripts."
   ]
  },
  {
   "cell_type": "code",
   "execution_count": 1,
   "metadata": {},
   "outputs": [
    {
     "name": "stdout",
     "output_type": "stream",
     "text": [
      "Names and values\n",
      "----------------\n",
      "  R1 : {'__doc__': '', 'variable': 'x', 'math': 'k - d*x'}\n",
      "  x : {'__doc__': '', 'compartment': 'default_compartment', 'initialConcentration': 0, 'substanceUnits': 'mole', 'constant': False, 'boundaryCondition': False, 'hasOnlySubstanceUnits': False}\n",
      "  d : <parameter value=0.1>\n",
      "  k : <parameter value=10>\n",
      "  locals : {'__doc__': '', 'argument_names': [''], 'body': <function locals_ at 0x7f74a513fc80>}\n",
      "  globals : {'__doc__': '', 'argument_names': [''], 'body': <function globals_ at 0x7f74a513fbf8>}\n",
      "  print : {'__doc__': '', 'argument_names': ['value'], 'body': <function print_ at 0x7f74a513fb70>}\n",
      "  exit : {'__doc__': '', 'argument_names': [], 'body': <function exit_ at 0x7f74a513fae8>}\n",
      "  __file__ : /home/nobel/Sync/projects/python/onemodel/examples\n",
      "  __exit__ : False\n",
      "  __name__ : __main__\n",
      "\n"
     ]
    }
   ],
   "source": [
    "import onemodel as one\n",
    "\n",
    "model_code = \"\"\"\n",
    "parameter \n",
    "    k = 10\n",
    "    d = 0.1\n",
    "end\n",
    "\n",
    "species x = 0\n",
    "\n",
    "rule R1: der(x) := k - d*x\n",
    "\"\"\"\n",
    "\n",
    "model = one.evaluate(model_code)\n",
    "\n",
    "print(model)"
   ]
  }
 ],
 "metadata": {
  "colab": {
   "collapsed_sections": [],
   "provenance": []
  },
  "kernelspec": {
   "display_name": "Python 3 (ipykernel)",
   "language": "python",
   "name": "python3"
  },
  "language_info": {
   "codemirror_mode": {
    "name": "ipython",
    "version": 3
   },
   "file_extension": ".py",
   "mimetype": "text/x-python",
   "name": "python",
   "nbconvert_exporter": "python",
   "pygments_lexer": "ipython3",
   "version": "3.7.2"
  }
 },
 "nbformat": 4,
 "nbformat_minor": 1
}
