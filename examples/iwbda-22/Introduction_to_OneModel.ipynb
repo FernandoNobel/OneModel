{
 "cells": [
  {
   "cell_type": "markdown",
   "metadata": {
    "id": "DYkIxvRlybd7"
   },
   "source": [
    "# OneModel: an open-source SBML modeling tool focused on accessibility, simplicity and modularity"
   ]
  },
  {
   "cell_type": "markdown",
   "metadata": {},
   "source": [
    "----"
   ]
  },
  {
   "cell_type": "markdown",
   "metadata": {
    "id": "V5hNQzNCZ6aj"
   },
   "source": [
    "## Install OneModel and dependencies needed for the workshop"
   ]
  },
  {
   "cell_type": "code",
   "execution_count": null,
   "metadata": {
    "colab": {
     "base_uri": "https://localhost:8080/"
    },
    "id": "T-XV95P3yKaJ",
    "outputId": "1832869e-7588-4651-c511-2cdbc28e6d84",
    "scrolled": true
   },
   "outputs": [],
   "source": [
    "# Install onemodel.\n",
    "!pip install -I --no-cache-dir https://github.com/fernandonobel/onemodel/archive/jupyter.zip\n",
    "    \n",
    "# Install roadrunner for SBML simulations.\n",
    "!pip install libroadrunner\n",
    "\n",
    "# Download examples.\n",
    "!wget https://raw.githubusercontent.com/fernandonobel/onemodel/develop/examples/ex01_simple_gene_expression.one\n",
    "!wget https://raw.githubusercontent.com/fernandonobel/onemodel/develop/examples/ex03_protein_constitutive.one\n",
    "!wget https://raw.githubusercontent.com/fernandonobel/onemodel/develop/examples/ex05_protein_induced.one"
   ]
  },
  {
   "cell_type": "code",
   "execution_count": 1,
   "metadata": {},
   "outputs": [],
   "source": [
    "import onemodel\n",
    "import roadrunner\n",
    "\n",
    "# Custom plot for roadrunner.\n",
    "# Plots each state in a different plot.\n",
    "def plot(rr):\n",
    "\n",
    "    import pylab as p\n",
    "\n",
    "    result = rr.getSimulationData()\n",
    "\n",
    "    if result is None:\n",
    "        raise Exception(\"no simulation result\")\n",
    "\n",
    "    # assume result is a standard numpy array\n",
    "\n",
    "    selections = rr.timeCourseSelections\n",
    "\n",
    "    if len(result.shape) != 2 or result.shape[1] != len(selections):\n",
    "        raise Exception(\"simulation result columns not equal to number of selections,\"\n",
    "                        \"likely a simulation has not been run\")\n",
    "\n",
    "    times = result[:,0]\n",
    "\n",
    "    for i in range(1, len(selections)):\n",
    "        series = result[:,i]\n",
    "        name = selections[i]\n",
    "            \n",
    "        fig, ax = p.subplots()\n",
    "        ax.plot(times, series, label=str(name))\n",
    "        ax.legend()\n",
    "        \n",
    "# Add the custom plot to roadrunner.\n",
    "roadrunner.RoadRunner.plot = plot"
   ]
  },
  {
   "cell_type": "markdown",
   "metadata": {},
   "source": [
    "----"
   ]
  },
  {
   "cell_type": "markdown",
   "metadata": {
    "id": "PLjanPdaXIMV"
   },
   "source": [
    "## WORKPLACE 01: The OneModel REPL (Read-Eval-Print Loop)\n",
    "\n",
    "OneModel has an interactive command-line REPL (read-eval-print loop).\n",
    "\n",
    "**Note:** use only single-line commands. To use a multiline command (i.e. a parameter block) you have to introduce manually intro lines using `;`\n",
    "\n",
    "For example,\n",
    "\n",
    "```\n",
    "# Multi-line version of a parameter block.\n",
    "parameter\n",
    "  foo = 10\n",
    "  bar = 20\n",
    "end\n",
    "\n",
    "# Singe-line parameter block.\n",
    "parameter; foo = 10; bar = 20; end\n",
    "\n",
    "# Even easier just use regular single-line commands.\n",
    "parameter foo = 10\n",
    "parameter bar = 20\n",
    "```"
   ]
  },
  {
   "cell_type": "code",
   "execution_count": null,
   "metadata": {
    "colab": {
     "base_uri": "https://localhost:8080/"
    },
    "id": "T5YktguX-IZU",
    "outputId": "4ab2188d-ea82-4267-cec5-4d670f84ef84",
    "scrolled": false
   },
   "outputs": [],
   "source": [
    "# Execute the OneModel REPL (Read-Evaluate-Print Loop).\n",
    "model = onemodel.shell()\n",
    "\n",
    "# Export the model into SBML.\n",
    "sbml = model.get_SBML_string()\n",
    "\n",
    "# Print the defined model.\n",
    "print(\"\\n=== Built-in and user-defined variables =============\")\n",
    "print(model)\n",
    "\n",
    "# Print the model exported into SBML.\n",
    "print(\"\\n=== SBML representation of the model ================\")\n",
    "print(sbml)"
   ]
  },
  {
   "cell_type": "markdown",
   "metadata": {},
   "source": [
    "----"
   ]
  },
  {
   "cell_type": "markdown",
   "metadata": {},
   "source": [
    "## WORKPLACE 02: Define models using text\n",
    "\n",
    "Instead of using the OneModel REPL, we can define models permanently using scripts."
   ]
  },
  {
   "cell_type": "code",
   "execution_count": null,
   "metadata": {},
   "outputs": [],
   "source": [
    "import onemodel\n",
    "\n",
    "# Define the model using a multi-line string.\n",
    "text = \"\"\"\n",
    "species A = 0 \n",
    "species B = 0 \n",
    "\n",
    "parameter k = 1 \n",
    "\n",
    "reaction A -> B ; k*A \n",
    "\"\"\"\n",
    "\n",
    "# Evalute the model.\n",
    "model = onemodel.evaluate(text)\n",
    "\n",
    "# Print the result.\n",
    "print(model)"
   ]
  },
  {
   "cell_type": "markdown",
   "metadata": {},
   "source": [
    "----"
   ]
  },
  {
   "cell_type": "markdown",
   "metadata": {},
   "source": [
    "## WORKPLACE 03: How to edit files using Google Colab\n",
    "\n",
    "Google Colab only allows to edit files with .txt or .py extensions. OneModel uses .one as extensions, so to bypass this limitation we can use \"%%file\" to directly write text into a file.\n",
    "\n",
    "We will use this special command to write files with OneModel syntax. \n",
    "\n",
    "When editint the contents of the following cell, use ctrl+intro to write into the file."
   ]
  },
  {
   "cell_type": "code",
   "execution_count": null,
   "metadata": {},
   "outputs": [],
   "source": [
    "%%file src/test_model.one\n",
    "\n",
    "# Everything you write here will be saved into \"test_model.one\" when you press ctrl+intro or execute this cell.\n",
    "\n",
    "species A = 0\n",
    "species B = 0\n",
    "\n",
    "parameter k = 1\n",
    "\n",
    "reaction A -> B ; k*A"
   ]
  },
  {
   "cell_type": "markdown",
   "metadata": {},
   "source": [
    "We can read the contents of a file in two ways:\n",
    "\n",
    "1. You can download the file from the left pane and open it localy with a text editor.\n",
    "2. Or, you can just execute the following command to print the contents of the file."
   ]
  },
  {
   "cell_type": "code",
   "execution_count": null,
   "metadata": {
    "scrolled": true
   },
   "outputs": [],
   "source": [
    "# Print the contents of \"test_model.one\" when you press ctrl-intro or execute this cell.\n",
    "%cat src/test_model.one"
   ]
  },
  {
   "cell_type": "markdown",
   "metadata": {},
   "source": [
    "Now, we can use OneModel to directly read from the file `test_model.one` where we have defined our model. This is the best way to use OneModel"
   ]
  },
  {
   "cell_type": "markdown",
   "metadata": {},
   "source": [
    "----"
   ]
  },
  {
   "cell_type": "markdown",
   "metadata": {},
   "source": [
    "## WORKPLACE 04: Define models using files"
   ]
  },
  {
   "cell_type": "code",
   "execution_count": 12,
   "metadata": {},
   "outputs": [
    {
     "name": "stdout",
     "output_type": "stream",
     "text": [
      "Overwriting src/my_model.one\n"
     ]
    }
   ],
   "source": [
    "%%file src/my_model.one\n",
    "\n",
    "species A = 0\n",
    "species B = 0\n",
    "species C = 0\n",
    "\n",
    "parameter k_A = 1\n",
    "parameter d_A = 0.1\n",
    "parameter k_B = 1\n",
    "parameter k_C = 1\n",
    "\n",
    "reaction 0 -> A ; k_A\n",
    "reaction A -> 0 ; d_A*A\n",
    "reaction A -> B ; k_B*A\n",
    "reaction B + B -> C ; k_C*B*B"
   ]
  },
  {
   "cell_type": "code",
   "execution_count": null,
   "metadata": {
    "scrolled": false
   },
   "outputs": [],
   "source": [
    "# Set the path where our model is located.\n",
    "filepath = \"src/my_model.one\"\n",
    "\n",
    "# Load the model.\n",
    "model = onemodel.load(filepath)\n",
    "print(model)\n",
    "\n",
    "# Export the model into SBML.\n",
    "sbml = model.get_SBML_string()\n",
    "\n",
    "# Simulate the SBML and plot the results.\n",
    "rr = roadrunner.RoadRunner(sbml)\n",
    "results = rr.simulate(0, 10, 100) # (t_start, t_end, number_of_points)\n",
    "rr.plot()"
   ]
  },
  {
   "cell_type": "markdown",
   "metadata": {},
   "source": [
    "----"
   ]
  },
  {
   "cell_type": "markdown",
   "metadata": {},
   "source": [
    "## WORKPLACE 05: `ProteinConstitutive`\n",
    "$$\\require{mhchem}$$ \n",
    "**Set of reactions:**\n",
    "\n",
    "* mRNA transcription: $\\ce{\\emptyset->[k_m] mRNA}$\n",
    "* mRNA degradation: $\\ce{mRNA ->[d_m] \\emptyset}$\n",
    "* Protein translation: $\\ce{mRNA ->[k_p] mRNA + protein}$\n",
    "* Protein degradation: $\\ce{protein ->[d_p] \\emptyset}$\n",
    "\n",
    "**Set of parameters:**\n",
    "\n",
    "* Transcription rate: $k_m$\n",
    "* mRNA degradation rate: $d_m$\n",
    "* Translation rate: $k_p$\n",
    "* Protein degradation rate: $d_p$\n",
    "\n",
    "**Set of species:**\n",
    "\n",
    "* Concentration of mRNA: $mRNA$\n",
    "* Concentration of protein: $protein$"
   ]
  },
  {
   "cell_type": "code",
   "execution_count": null,
   "metadata": {},
   "outputs": [],
   "source": [
    "%%file src/protein_constitutive.one\n",
    "\n",
    "# TODO: Write your model here.\n",
    "\n",
    "### Definition of ProteinConstitutive. ###\n",
    "\n",
    "## ProteinConstitutive models constitutive gene expression. ##\n",
    "model ProteinConstitutive  # Start declaring model.\n",
    "\n",
    "  species mRNA=0, protein=0  # mRNA and protein concentration.\n",
    "  \n",
    "  parameter\n",
    "    k_m=1, d_m=1  # mRNA transcription and degradation rate.\n",
    "    k_p=1, d_p=1  # Protein translation and degradation rate.\n",
    "  end\n",
    "  \n",
    "  reaction\n",
    "    0 -> mRNA              ; k_m          # mRNA transcription.\n",
    "    mRNA -> 0              ; d_m*mRNA     # mRNA degradation.\n",
    "    mRNA -> mRNA + protein ; k_p*mRNA     # Protein translation.\n",
    "    protein -> 0           ; d_p*protein  # Protein degradation.\n",
    "  end\n",
    "end  # End declaring model.\n",
    "\n",
    "## Example of how to use ProteinConstitutive. ##\n",
    "standalone        \n",
    "  A = ProteinConstitutive()\n",
    "end"
   ]
  },
  {
   "cell_type": "code",
   "execution_count": null,
   "metadata": {
    "scrolled": true
   },
   "outputs": [],
   "source": [
    "filepath = \"src/protein_constitutive.one\"\n",
    "\n",
    "model = onemodel.load(filepath)\n",
    "\n",
    "print(model)\n",
    "\n",
    "sbml = model.get_SBML_string()\n",
    "\n",
    "rr = roadrunner.RoadRunner(sbml)\n",
    "results = rr.simulate(0, 10, 100) # (t_start, t_end, number_of_points)\n",
    "rr.plot()"
   ]
  },
  {
   "cell_type": "markdown",
   "metadata": {},
   "source": [
    "----"
   ]
  },
  {
   "cell_type": "markdown",
   "metadata": {},
   "source": [
    "## WORKPLACE 06: `ProteinInduced`"
   ]
  },
  {
   "cell_type": "code",
   "execution_count": null,
   "metadata": {},
   "outputs": [],
   "source": [
    "%%file src/protein_induced.one\n",
    "\n",
    "# TODO: Write your model here.\n",
    "\n",
    "### Definition of ProteinInduced. ###\n",
    "\n",
    "from protein_constitutive import ProteinConstitutive\n",
    "\n",
    "## ProteinInduced extends the ProteinConstitutive model to make ##\n",
    "## the expression inducible by a transcription factor.          ##\n",
    "model ProteinInduced\n",
    "\n",
    "  extends ProteinConstitutive\n",
    "\n",
    "  species TF     # Define the transcription factor as an input.\n",
    "  species k_m=0  # Override the parameter k_m to be a species.\n",
    "  \n",
    "  parameter\n",
    "    h = 1        # Half-activation threshold.\n",
    "    k_m_max = 1  # Maximum transcription rate.\n",
    "  end\n",
    "  \n",
    "  # Set the value of k_m as an substitution equation.\n",
    "  rule k_m := k_m_max * TF/(TF+h)\n",
    "end\n",
    "\n",
    "## Example of how to use ProteinInduced. ##\n",
    "standalone\n",
    "  A = ProteinConstitutive()\n",
    "  B = ProteinInduced()\n",
    "\n",
    "  rule B.TF := A.protein  # Set protein A as the transcription factor of B.\n",
    "end\n"
   ]
  },
  {
   "cell_type": "code",
   "execution_count": null,
   "metadata": {},
   "outputs": [],
   "source": [
    "filepath = \"src/protein_induced.one\"\n",
    "\n",
    "model = onemodel.load(filepath)\n",
    "\n",
    "print(model)\n",
    "\n",
    "sbml = model.get_SBML_string()\n",
    "\n",
    "rr = roadrunner.RoadRunner(sbml)\n",
    "results = rr.simulate(0, 10, 100) # (t_start, t_end, number_of_points)\n",
    "rr.plot()"
   ]
  },
  {
   "cell_type": "markdown",
   "metadata": {},
   "source": [
    "----"
   ]
  },
  {
   "attachments": {
    "image-2.png": {
     "image/png": "[encoded data removed]"
    }
   },
   "cell_type": "markdown",
   "metadata": {},
   "source": [
    "## WORKPLACE 07: Antithetic Controller\n",
    "![image-2.png](attachment:image-2.png)"
   ]
  },
  {
   "cell_type": "code",
   "execution_count": null,
   "metadata": {},
   "outputs": [],
   "source": [
    "%%file src/antithetic_controller.one\n",
    "\n",
    "# TODO: Write your model here.\n",
    "\n"
   ]
  },
  {
   "cell_type": "code",
   "execution_count": null,
   "metadata": {},
   "outputs": [],
   "source": [
    "filepath = \"src/antithetic_controller.one\"\n",
    "\n",
    "model = onemodel.load(filepath)\n",
    "\n",
    "print(model)\n",
    "\n",
    "sbml = model.get_SBML_string()\n",
    "\n",
    "rr = roadrunner.RoadRunner(sbml)\n",
    "results = rr.simulate(0, 10, 100) # (t_start, t_end, number_of_points)\n",
    "rr.plot()"
   ]
  },
  {
   "cell_type": "markdown",
   "metadata": {},
   "source": [
    "## WORKPLACE 08: Install dependencies"
   ]
  },
  {
   "cell_type": "code",
   "execution_count": 1,
   "metadata": {},
   "outputs": [
    {
     "name": "stdout",
     "output_type": "stream",
     "text": [
      "Overwriting onemodel.toml\n"
     ]
    }
   ],
   "source": [
    "%%file onemodel.toml\n",
    "\n",
    "[dependencies]\n",
    "\n",
    "protein_expression = \"https://github.com/fernandonobel/protein_expression\""
   ]
  },
  {
   "cell_type": "code",
   "execution_count": 4,
   "metadata": {},
   "outputs": [
    {
     "name": "stdout",
     "output_type": "stream",
     "text": [
      "Load \"onemodel.toml\".\n",
      "Installed https://github.com/fernandonobel/protein_expression as \"protein_expression\"\n",
      "All dependencies installed.\n"
     ]
    }
   ],
   "source": [
    "onemodel.install_dependencies()"
   ]
  },
  {
   "cell_type": "code",
   "execution_count": 5,
   "metadata": {},
   "outputs": [
    {
     "name": "stdout",
     "output_type": "stream",
     "text": [
      "OneModel v1.0.0\n",
      "Documentation: https://onemodel.readthedocs.io/\n",
      "\n",
      "one> import protein_expression\n",
      "IndexError: list index out of range\n",
      "one> import protein_expression.protein_constitutive\n",
      "one> import protein_expression.protein_induced\n",
      "one> locals(protein_expression)\n",
      "Name             Value     Documentation\n",
      "---------------  --------  ---------------\n",
      "protein_induced  <module>\n",
      "__file__         ''\n",
      "__name__         ''\n",
      "__doc__          ''\n",
      "\n",
      "one> locals(protein_expression.protein_induced)\n",
      "Name                 Value                                                                                                         Documentation\n",
      "-------------------  ------------------------------------------------------------------------------------------------------------  ---------------\n",
      "ProteinInduced       <model>\n",
      "ProteinConstitutive  <model>\n",
      "__file__             '/home/nobel/Sync/projects/python/onemodel/examples/iwbda-22/lib/protein_expression/src/protein_induced.one'\n",
      "__name__             'protein_induced'\n",
      "__doc__              ''\n",
      "\n",
      "one> from protein_expression.protein_induced import ProteinInduced\n",
      "one> ProteinInduced()\n",
      "AttributeError: 'NoneType' object has no attribute 'call'\n",
      "one> ProteinInduced\n",
      "one> exit()\n"
     ]
    },
    {
     "data": {
      "text/plain": [
       "<onemodel.onemodel.OneModel at 0x7fcfe47592e8>"
      ]
     },
     "execution_count": 5,
     "metadata": {},
     "output_type": "execute_result"
    }
   ],
   "source": [
    "onemodel.shell()"
   ]
  },
  {
   "cell_type": "markdown",
   "metadata": {},
   "source": [
    "## WORKPLACE 09 Build models using pre-exisisting models"
   ]
  },
  {
   "cell_type": "code",
   "execution_count": 14,
   "metadata": {},
   "outputs": [
    {
     "name": "stdout",
     "output_type": "stream",
     "text": [
      "Overwriting src/antithetic_controller_2.one\n"
     ]
    }
   ],
   "source": [
    "%%file src/antithetic_controller_2.one\n",
    "\n",
    "import protein_expression.protein_induced\n",
    "\n",
    "locals(protein_induced)\n",
    "\n",
    "#from protein_expression.protein_constitutive import ProteinConstitutive\n",
    "#from protein_expression.protein_induced import ProteinInduced\n",
    "\n",
    "#A = ProteinConstitutive()\n",
    "#B = ProteinInduced()\n",
    "\n",
    "#rule B.TF := A.protein"
   ]
  },
  {
   "cell_type": "code",
   "execution_count": 15,
   "metadata": {},
   "outputs": [
    {
     "name": "stdout",
     "output_type": "stream",
     "text": [
      "Name                 Value                                                                                                         Documentation\n",
      "-------------------  ------------------------------------------------------------------------------------------------------------  ---------------\n",
      "ProteinInduced       <model>\n",
      "ProteinConstitutive  <model>\n",
      "__file__             '/home/nobel/Sync/projects/python/onemodel/examples/iwbda-22/lib/protein_expression/src/protein_induced.one'\n",
      "__name__             'protein_induced'\n",
      "__doc__              ''\n",
      "\n",
      "Name                Value     Documentation\n",
      "------------------  --------  ---------------\n",
      "protein_induced     <module>\n",
      "protein_expression  <module>\n"
     ]
    },
    {
     "ename": "NameError",
     "evalue": "name 'roadrunner' is not defined",
     "output_type": "error",
     "traceback": [
      "\u001b[0;31m---------------------------------------------------------------------------\u001b[0m",
      "\u001b[0;31mNameError\u001b[0m                                 Traceback (most recent call last)",
      "\u001b[0;32m/tmp/ipykernel_8542/568866501.py\u001b[0m in \u001b[0;36m<module>\u001b[0;34m\u001b[0m\n\u001b[1;32m      9\u001b[0m \u001b[0msbml\u001b[0m \u001b[0;34m=\u001b[0m \u001b[0mmodel\u001b[0m\u001b[0;34m.\u001b[0m\u001b[0mget_SBML_string\u001b[0m\u001b[0;34m(\u001b[0m\u001b[0;34m)\u001b[0m\u001b[0;34m\u001b[0m\u001b[0;34m\u001b[0m\u001b[0m\n\u001b[1;32m     10\u001b[0m \u001b[0;34m\u001b[0m\u001b[0m\n\u001b[0;32m---> 11\u001b[0;31m \u001b[0mrr\u001b[0m \u001b[0;34m=\u001b[0m \u001b[0mroadrunner\u001b[0m\u001b[0;34m.\u001b[0m\u001b[0mRoadRunner\u001b[0m\u001b[0;34m(\u001b[0m\u001b[0msbml\u001b[0m\u001b[0;34m)\u001b[0m\u001b[0;34m\u001b[0m\u001b[0;34m\u001b[0m\u001b[0m\n\u001b[0m\u001b[1;32m     12\u001b[0m \u001b[0mresults\u001b[0m \u001b[0;34m=\u001b[0m \u001b[0mrr\u001b[0m\u001b[0;34m.\u001b[0m\u001b[0msimulate\u001b[0m\u001b[0;34m(\u001b[0m\u001b[0;36m0\u001b[0m\u001b[0;34m,\u001b[0m \u001b[0;36m10\u001b[0m\u001b[0;34m,\u001b[0m \u001b[0;36m100\u001b[0m\u001b[0;34m)\u001b[0m \u001b[0;31m# (t_start, t_end, number_of_points)\u001b[0m\u001b[0;34m\u001b[0m\u001b[0;34m\u001b[0m\u001b[0m\n\u001b[1;32m     13\u001b[0m \u001b[0mrr\u001b[0m\u001b[0;34m.\u001b[0m\u001b[0mplot\u001b[0m\u001b[0;34m(\u001b[0m\u001b[0;34m)\u001b[0m\u001b[0;34m\u001b[0m\u001b[0;34m\u001b[0m\u001b[0m\n",
      "\u001b[0;31mNameError\u001b[0m: name 'roadrunner' is not defined"
     ]
    }
   ],
   "source": [
    "import onemodel\n",
    "\n",
    "filepath = \"src/antithetic_controller_2.one\"\n",
    "\n",
    "model = onemodel.load(filepath)\n",
    "\n",
    "print(model)\n",
    "\n",
    "sbml = model.get_SBML_string()\n",
    "\n",
    "rr = roadrunner.RoadRunner(sbml)\n",
    "results = rr.simulate(0, 10, 100) # (t_start, t_end, number_of_points)\n",
    "rr.plot()"
   ]
  },
  {
   "cell_type": "markdown",
   "metadata": {},
   "source": [
    "## WORKPLACE 10: The host-aware model for *E. coli*"
   ]
  },
  {
   "cell_type": "code",
   "execution_count": 2,
   "metadata": {},
   "outputs": [
    {
     "name": "stdout",
     "output_type": "stream",
     "text": [
      "Overwriting onemodel.toml\n"
     ]
    }
   ],
   "source": [
    "%%file onemodel.toml\n",
    "\n",
    "[dependencies]\n",
    "\n",
    "protein_expression = \"https://github.com/fernandonobel/protein_expression\"\n",
    "host_aware_model = \"https://github.com/fernandonobel/host_aware_model\""
   ]
  },
  {
   "cell_type": "code",
   "execution_count": 3,
   "metadata": {
    "scrolled": true
   },
   "outputs": [
    {
     "name": "stdout",
     "output_type": "stream",
     "text": [
      "Load \"onemodel.toml\".\n",
      "Installed https://github.com/fernandonobel/protein_expression as \"protein_expression\"\n",
      "Installed https://github.com/fernandonobel/host_aware_model as \"host_aware_model\"\n",
      "All dependencies installed.\n"
     ]
    }
   ],
   "source": [
    "onemodel.install_dependencies()"
   ]
  },
  {
   "cell_type": "code",
   "execution_count": 10,
   "metadata": {},
   "outputs": [
    {
     "name": "stdout",
     "output_type": "stream",
     "text": [
      "Overwriting src/host_aware_example.one\n"
     ]
    }
   ],
   "source": [
    "%%file src/host_aware_example.one\n",
    "\n",
    "from host_aware_model.host_aware_model.protein_constitutive import ProteinConstitutive\n",
    "from host_aware_model.host_aware_model.protein_ribosomal import ProteinRibosomal\n",
    "from host_aware_model.host_aware_model.protein_non_ribosomal import ProteinNonRibosomal\n",
    "from host_aware_model.host_aware_model.host_aware_model import HostAwareModel\n",
    "from host_aware_model.mass_equation.mass_equation import MassEquation\n",
    "from host_aware_model.mass_equation.mass_interpolated import MassInterpolated\n",
    "\n",
    "\n",
    "cell = HostAwareModel()\n",
    "mass = MassInterpolated()\n",
    "\n",
    "parameter __t_end = 2000\n",
    "\n",
    "# Define a constitutive expressed exogenous protein.\n",
    "p_exo = ProteinConstitutive()\n",
    "\n",
    "# Add protein A to the model.\n",
    "rule\n",
    "    p_exo.nu_t := cell.nu_t\n",
    "    p_exo.mu := cell.mu\n",
    "    p_exo.r := cell.r\n",
    "    p_exo.m_h := cell.m_h\n",
    "    p_exo.J_host_sum := cell.J_host_sum\n",
    "end\n",
    "\n",
    "# Override equations.\n",
    "rule\n",
    "    cell.WSum_equation:  WSum := p_r.W + p_nr.W + p_exo.W\n",
    "    cell.m_p_equation:   m_p := p_r.m + p_nr.m + p_exo.m\n",
    "end\n",
    "\n",
    "\n",
    "rule \n",
    "    mass.mu := cell.mu\n",
    "    cell.m_h := mass.m_h\n",
    "end"
   ]
  },
  {
   "cell_type": "code",
   "execution_count": 5,
   "metadata": {},
   "outputs": [
    {
     "name": "stdout",
     "output_type": "stream",
     "text": [
      "Name                 Value                                                       Documentation\n",
      "-------------------  ----------------------------------------------------------  ---------------\n",
      "_R30                 <assignment-rule eq='cell.m_h := mass.m_h'>\n",
      "_R29                 <assignment-rule eq='mass.mu := cell.mu'>\n",
      "_R28                 <assignment-rule eq='p_exo.J_host_sum := cell.J_host_sum'>\n",
      "_R27                 <assignment-rule eq='p_exo.m_h := cell.m_h'>\n",
      "_R26                 <assignment-rule eq='p_exo.r := cell.r'>\n",
      "_R25                 <assignment-rule eq='p_exo.mu := cell.mu'>\n",
      "_R24                 <assignment-rule eq='p_exo.nu_t := cell.nu_t'>\n",
      "p_exo                <object>\n",
      "mass                 <object>\n",
      "cell                 <object>\n",
      "MassInterpolated     <model>\n",
      "MassEquation         <model>\n",
      "HostAwareModel       <model>\n",
      "ProteinNonRibosomal  <model>\n",
      "ProteinRibosomal     <model>\n",
      "ProteinConstitutive  <model>\n",
      "host_aware_model     <module>\n"
     ]
    }
   ],
   "source": [
    "import onemodel\n",
    "\n",
    "filepath = \"src/host_aware_example.one\"\n",
    "\n",
    "model = onemodel.load(filepath)\n",
    "\n",
    "print(model)"
   ]
  },
  {
   "cell_type": "code",
   "execution_count": 11,
   "metadata": {},
   "outputs": [
    {
     "name": "stdout",
     "output_type": "stream",
     "text": [
      "### Convert sbml into matlab ###\n",
      "\tExtract DAE model from sbml model.\n",
      "\tGenerated /home/nobel/Sync/projects/python/onemodel/examples/iwbda-22/build/host_aware_example_example.m\n",
      "\tGenerated /home/nobel/Sync/projects/python/onemodel/examples/iwbda-22/build/host_aware_example.m\n"
     ]
    }
   ],
   "source": [
    "!onemodel export src/host_aware_example.one\n",
    "!sbml2dae export build/host_aware_example.xml"
   ]
  }
 ],
 "metadata": {
  "colab": {
   "collapsed_sections": [],
   "provenance": []
  },
  "kernelspec": {
   "display_name": "Python 3 (ipykernel)",
   "language": "python",
   "name": "python3"
  },
  "language_info": {
   "codemirror_mode": {
    "name": "ipython",
    "version": 3
   },
   "file_extension": ".py",
   "mimetype": "text/x-python",
   "name": "python",
   "nbconvert_exporter": "python",
   "pygments_lexer": "ipython3",
   "version": "3.7.2"
  }
 },
 "nbformat": 4,
 "nbformat_minor": 1
}
