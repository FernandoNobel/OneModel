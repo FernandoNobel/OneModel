{
 "cells": [
  {
   "cell_type": "markdown",
   "metadata": {
    "id": "DYkIxvRlybd7"
   },
   "source": [
    "# OneModel: an open-source SBML modeling tool focused on accessibility, simplicity and modularity"
   ]
  },
  {
   "cell_type": "markdown",
   "metadata": {
    "id": "V5hNQzNCZ6aj"
   },
   "source": [
    "## Install OneModel and dependencies needed for the workshop"
   ]
  },
  {
   "cell_type": "code",
   "execution_count": null,
   "metadata": {
    "colab": {
     "base_uri": "https://localhost:8080/"
    },
    "id": "T-XV95P3yKaJ",
    "outputId": "1832869e-7588-4651-c511-2cdbc28e6d84",
    "scrolled": true
   },
   "outputs": [],
   "source": [
    "# Install onemodel.\n",
    "!pip install -I --no-cache-dir https://github.com/fernandonobel/onemodel/archive/jupyter.zip\n",
    "    \n",
    "# Install roadrunner for SBML simulations.\n",
    "!pip install libroadrunner\n",
    "\n",
    "# Download examples.\n",
    "!wget https://raw.githubusercontent.com/fernandonobel/onemodel/develop/examples/ex01_simple_gene_expression.one\n",
    "!wget https://raw.githubusercontent.com/fernandonobel/onemodel/develop/examples/ex03_protein_constitutive.one\n",
    "!wget https://raw.githubusercontent.com/fernandonobel/onemodel/develop/examples/ex05_protein_induced.one"
   ]
  },
  {
   "cell_type": "code",
   "execution_count": 1,
   "metadata": {},
   "outputs": [],
   "source": [
    "import onemodel\n",
    "import roadrunner\n",
    "\n",
    "# Custom plot for roadrunner.\n",
    "# Plots each state in a different plot.\n",
    "def plot(rr):\n",
    "\n",
    "    import pylab as p\n",
    "\n",
    "    result = rr.getSimulationData()\n",
    "\n",
    "    if result is None:\n",
    "        raise Exception(\"no simulation result\")\n",
    "\n",
    "    # assume result is a standard numpy array\n",
    "\n",
    "    selections = rr.timeCourseSelections\n",
    "\n",
    "    if len(result.shape) != 2 or result.shape[1] != len(selections):\n",
    "        raise Exception(\"simulation result columns not equal to number of selections,\"\n",
    "                        \"likely a simulation has not been run\")\n",
    "\n",
    "    times = result[:,0]\n",
    "\n",
    "    for i in range(1, len(selections)):\n",
    "        series = result[:,i]\n",
    "        name = selections[i]\n",
    "            \n",
    "        fig, ax = p.subplots()\n",
    "        ax.plot(times, series, label=str(name))\n",
    "        ax.legend()\n",
    "        \n",
    "# Add the custom plot to roadrunner.\n",
    "roadrunner.RoadRunner.plot = plot"
   ]
  },
  {
   "cell_type": "markdown",
   "metadata": {
    "id": "kZ_PiD7oW2Nw"
   },
   "source": [
    "----\n",
    "## PART 1: How to model biological processes using OneModel"
   ]
  },
  {
   "cell_type": "markdown",
   "metadata": {
    "id": "PLjanPdaXIMV"
   },
   "source": [
    "### Exercise 01: The OneModel REPL (Read-Eval-Print Loop)\n",
    "\n",
    "OneModel has an interactive command-line REPL (read-eval-print loop).\n",
    "\n",
    "**Task:** Try to use the OneModel REPL build a model interactively.\n",
    "\n",
    "**Time limit:** 5 minutes.\n",
    "\n",
    "For example, \n",
    "\n",
    "```\n",
    "my_variable = 10\n",
    "parameter a = 0\n",
    "```\n",
    "\n",
    "**Supporting material:** Link to the documentation.\n",
    "\n",
    "**Note:** use only single-line commands. To use a multiline command (i.e. a parameter block) you have to introduce manually intro lines using `;`\n",
    "\n",
    "For example,\n",
    "\n",
    "```\n",
    "# Multi-line version of a parameter block.\n",
    "parameter\n",
    "  foo = 10\n",
    "  bar = 20\n",
    "end\n",
    "\n",
    "# Singe-line parameter block.\n",
    "parameter; foo = 10; bar = 20; end\n",
    "\n",
    "# Even easier just use regular single-line commands.\n",
    "parameter foo = 10\n",
    "parameter bar = 20\n",
    "```"
   ]
  },
  {
   "cell_type": "code",
   "execution_count": null,
   "metadata": {
    "colab": {
     "base_uri": "https://localhost:8080/"
    },
    "id": "T5YktguX-IZU",
    "outputId": "4ab2188d-ea82-4267-cec5-4d670f84ef84",
    "scrolled": true
   },
   "outputs": [],
   "source": [
    "model = onemodel.shell()\n",
    "\n",
    "print(\"\\n=== Built-in and user-defined variables =============\")\n",
    "print(model)\n",
    "\n",
    "print(\"\\n=== SBML representation of the model ================\")\n",
    "sbml = model.get_SBML_string()\n",
    "print(sbml)"
   ]
  },
  {
   "cell_type": "markdown",
   "metadata": {},
   "source": [
    "### Exercise 02: Define models using scripts\n",
    "\n",
    "Instead of using the OneModel REPL, we can define models permanently using scripts."
   ]
  },
  {
   "cell_type": "code",
   "execution_count": null,
   "metadata": {},
   "outputs": [],
   "source": [
    "model_code = \"\"\"\n",
    "parameter \n",
    "    k = 20\n",
    "    d = 0.1\n",
    "end\n",
    "\n",
    "species x = 0\n",
    "\n",
    "rule R1: der(x) := k - d*x\n",
    "\"\"\"\n",
    "\n",
    "model = onemodel.evaluate(model_code)\n",
    "\n",
    "print(model)"
   ]
  },
  {
   "cell_type": "markdown",
   "metadata": {},
   "source": [
    "### Exercise 04: Load a script from a file\n",
    "\n",
    "Google Colab only allows to edit files with .txt or .py extensions. OneModel uses .one as extensions, so to bypass this limitation we can use \"%%file\" to directly write text into a file.\n",
    "\n",
    "We will use this special command to write files with OneModel syntax. \n",
    "\n",
    "When editint the contents of the following cell, use ctrl+intro to write into the file."
   ]
  },
  {
   "cell_type": "code",
   "execution_count": 14,
   "metadata": {},
   "outputs": [
    {
     "name": "stdout",
     "output_type": "stream",
     "text": [
      "Overwriting test_model.one\n"
     ]
    }
   ],
   "source": [
    "%%file test_model.one\n",
    "\n",
    "species\n",
    "    A = 0\n",
    "    B = 0\n",
    "    C = 0\n",
    "end\n",
    "\n",
    "parameter k = 1\n",
    "\n",
    "reaction J1: A + B -> C ; k*A*B"
   ]
  },
  {
   "cell_type": "markdown",
   "metadata": {},
   "source": [
    "We can read the contents of a file in two ways:\n",
    "\n",
    "1. You can download the file from the left pane and open it localy with a text editor.\n",
    "2. Or, you can just execute the following command to print the contents of the file."
   ]
  },
  {
   "cell_type": "code",
   "execution_count": 15,
   "metadata": {},
   "outputs": [
    {
     "name": "stdout",
     "output_type": "stream",
     "text": [
      "\r\n",
      "species\r\n",
      "    A = 0\r\n",
      "    B = 0\r\n",
      "    C = 0\r\n",
      "end\r\n",
      "\r\n",
      "parameter k = 1\r\n",
      "\r\n",
      "reaction J1: A + B -> C ; k*A*B\r\n"
     ]
    }
   ],
   "source": [
    "%cat test_model.one"
   ]
  },
  {
   "cell_type": "markdown",
   "metadata": {},
   "source": [
    "Now, we can use OneModel to directly read from the file `test_model.one` where we have defined our model. This is the best way to use OneModel"
   ]
  },
  {
   "cell_type": "code",
   "execution_count": 10,
   "metadata": {
    "scrolled": false
   },
   "outputs": [
    {
     "name": "stdout",
     "output_type": "stream",
     "text": [
      "Names and values\n",
      "----------------\n",
      "\n",
      "J1 : <reaction eq='A + B -> C ; k*A*B'>\n",
      "k : <parameter value=1>\n",
      "C : <species initial_value=0>\n",
      "B : <species initial_value=0>\n",
      "A : <species initial_value=0>\n",
      "locals : <builtin-function>\n",
      "globals : <builtin-function>\n",
      "print : <builtin-function>\n",
      "exit : <builtin-function>\n",
      "__file__ : '/home/nobel/Sync/projects/python/onemodel/examples/iwbda-22/test_model.one'\n",
      "__exit__ : False\n",
      "__name__ : '__main__'\n",
      "\n"
     ]
    }
   ],
   "source": [
    "filename = \"test_model.one\"\n",
    "\n",
    "model = onemodel.load(filename)\n",
    "\n",
    "print(model)"
   ]
  },
  {
   "cell_type": "markdown",
   "metadata": {},
   "source": [
    "### Exercise 05: Simulate the model using `roadrunner`"
   ]
  },
  {
   "cell_type": "code",
   "execution_count": 11,
   "metadata": {},
   "outputs": [
    {
     "data": {
      "image/png": "[encoded data removed]",
      "text/plain": [
       "<Figure size 640x480 with 1 Axes>"
      ]
     },
     "metadata": {},
     "output_type": "display_data"
    }
   ],
   "source": [
    "model_code = \"\"\"\n",
    "parameter \n",
    "    k = 20\n",
    "    d = 0.1\n",
    "end\n",
    "\n",
    "species x = 0\n",
    "\n",
    "rule R1: der(x) := k - d*x\n",
    "\"\"\"\n",
    "\n",
    "model = onemodel.evaluate(model_code)\n",
    "\n",
    "sbml = model.get_SBML_string()\n",
    "\n",
    "rr = roadrunner.RoadRunner(sbml)\n",
    "results = rr.simulate(0, 100, 100)\n",
    "rr.plot()"
   ]
  },
  {
   "cell_type": "markdown",
   "metadata": {},
   "source": [
    "### Exercise 06: Model constitutive protein expression\n",
    "$$\\require{mhchem}$$ \n",
    "**Set of reactions:**\n",
    "\n",
    "* mRNA transcription: $\\ce{\\emptyset->[k_m] mRNA}$\n",
    "* mRNA degradation: $\\ce{mRNA ->[d_m] \\emptyset}$\n",
    "* Protein translation: $\\ce{mRNA ->[k_p] mRNA + protein}$\n",
    "* Protein degradation: $\\ce{protein ->[d_p] \\emptyset}$\n",
    "\n",
    "**Set of parameters:**\n",
    "\n",
    "* Transcription rate: $k_m$\n",
    "* mRNA degradation rate: $d_m$\n",
    "* Translation rate: $k_p$\n",
    "* Protein degradation rate: $d_p$\n",
    "\n",
    "**Set of species:**\n",
    "\n",
    "* Concentration of mRNA: $mRNA$\n",
    "* Concentration of protein: $protein$"
   ]
  },
  {
   "cell_type": "code",
   "execution_count": null,
   "metadata": {
    "scrolled": true
   },
   "outputs": [],
   "source": [
    "model_code = \"\"\"\n",
    "# TODO: Write your model here.\n",
    "\n",
    "\"\"\"\n",
    "\n",
    "model = onemodel.evaluate(model_code)\n",
    "\n",
    "print(model)"
   ]
  },
  {
   "cell_type": "markdown",
   "metadata": {
    "id": "kZ_PiD7oW2Nw"
   },
   "source": [
    "## PART 2: How to reuse and extend your models using OneModel"
   ]
  },
  {
   "cell_type": "markdown",
   "metadata": {},
   "source": [
    "### Exercise 07: Resue modeles using the keyword `model`"
   ]
  },
  {
   "cell_type": "code",
   "execution_count": null,
   "metadata": {},
   "outputs": [],
   "source": [
    "model_code = \"\"\"\n",
    "model ProteinConstitutive\n",
    "    species \n",
    "        mRNA=0\n",
    "        protein=0\n",
    "    end\n",
    "  \n",
    "    parameter\n",
    "        k_m=1\n",
    "        d_m=1\n",
    "        k_p=1\n",
    "        d_p=1\n",
    "    end\n",
    "  \n",
    "    reaction\n",
    "        0 -> mRNA ; k_m          \n",
    "        mRNA -> 0 ; d_m*mRNA    \n",
    "        mRNA -> mRNA + protein ; k_p*mRNA\n",
    "        protein -> 0 ; d_p*protein\n",
    "    end\n",
    "end\n",
    "\n",
    "A = ProteinConstitutive()\n",
    "B = ProteinConstitutive()\n",
    "\"\"\"\n",
    "\n",
    "model = onemodel.evaluate(model_code)\n",
    "\n",
    "sbml = model.get_SBML_string()\n",
    "\n",
    "rr = roadrunner.RoadRunner(sbml)\n",
    "result = rr.simulate(0, 100, 100)\n",
    "\n",
    "rr.plot()"
   ]
  },
  {
   "cell_type": "markdown",
   "metadata": {},
   "source": [
    "### Exercise 08: Extend a model"
   ]
  },
  {
   "cell_type": "code",
   "execution_count": null,
   "metadata": {},
   "outputs": [],
   "source": [
    "%%file my_model.one\n",
    "\n",
    "species var = 10 # Hola\n",
    "rule var := 100"
   ]
  },
  {
   "cell_type": "code",
   "execution_count": null,
   "metadata": {},
   "outputs": [],
   "source": [
    "%cat my_model.one"
   ]
  },
  {
   "cell_type": "code",
   "execution_count": null,
   "metadata": {
    "scrolled": false
   },
   "outputs": [],
   "source": [
    "model_code = \"\"\"\n",
    "model ProteinConstitutive\n",
    "    species \n",
    "        mRNA=0\n",
    "        protein=0\n",
    "    end\n",
    "  \n",
    "    parameter\n",
    "        k_m=1\n",
    "        d_m=1\n",
    "        k_p=1\n",
    "        d_p=1\n",
    "    end\n",
    "  \n",
    "    reaction\n",
    "        0 -> mRNA ; k_m          \n",
    "        mRNA -> 0 ; d_m*mRNA    \n",
    "        mRNA -> mRNA + protein ; k_p*mRNA\n",
    "        protein -> 0 ; d_p*protein\n",
    "    end\n",
    "end\n",
    "\n",
    "model ProteinInduced\n",
    "    extends ProteinConstitutive\n",
    "    \n",
    "    species \n",
    "        TF = 0\n",
    "        k_m = 0 \n",
    "    end\n",
    "    \n",
    "    parameter h = 0.1\n",
    "    \n",
    "    rule k_m := TF/(TF + h)\n",
    "end\n",
    "\n",
    "A = ProteinConstitutive()\n",
    "B = ProteinInduced()\n",
    "\n",
    "rule B.TF := A.protein\n",
    "\"\"\"\n",
    "\n",
    "model = one.evaluate(model_code)\n",
    "\n",
    "sbml = model.get_SBML_string()\n",
    "\n",
    "rr = roadrunner.RoadRunner(sbml)\n",
    "results = rr.simulate(0, 100, 100)\n",
    "rr.plot()"
   ]
  },
  {
   "attachments": {
    "image-2.png": {
     "image/png": "[encoded data removed]"
    }
   },
   "cell_type": "markdown",
   "metadata": {},
   "source": [
    "### Exercise 09: Model the antithetic controller\n",
    "\n",
    "![image-2.png](attachment:image-2.png)"
   ]
  },
  {
   "cell_type": "code",
   "execution_count": null,
   "metadata": {
    "scrolled": true
   },
   "outputs": [],
   "source": [
    "model_code = \"\"\"\n",
    "from ex05_protein_induced import ProteinConstitutive\n",
    "from ex05_protein_induced import ProteinInduced\n",
    "\n",
    "model AntitheticController\n",
    "\n",
    "  z1 = ProteinConstitutive()\n",
    "  z2 = ProteinInduced()\n",
    "  x  = ProteinInduced()\n",
    "\n",
    "  parameter gamma = 1         # Antithetical sequestration rate.\n",
    "\n",
    "  reaction\n",
    "    # We have to add the antithetical reaction.\n",
    "    # Note that we can access species inside objects using '.' operator.\n",
    "    z1.protein + z2.protein -> 0 ; gamma*z1.protein*z2.protein\n",
    "  end\n",
    "\n",
    "  rule\n",
    "    x.TF  := z1.protein  # Set z1 as the transcription factor of x. \n",
    "    z2.TF := x.protein   # Set x as the transcription factor of z2.\n",
    "  end\n",
    "end\n",
    "\n",
    "circuit = AntitheticController()\n",
    "\"\"\"\n",
    "\n",
    "model = one.evaluate(model_code)\n",
    "\n",
    "sbml = model.get_SBML_string()\n",
    "\n",
    "rr = roadrunner.RoadRunner(sbml)\n",
    "results = rr.simulate(0, 100, 100)\n",
    "rr.plot()"
   ]
  },
  {
   "cell_type": "markdown",
   "metadata": {},
   "source": [
    "## PART 3: How to import and use other people's models using OneModel"
   ]
  },
  {
   "cell_type": "markdown",
   "metadata": {},
   "source": [
    "### Exercise 10: Install a model from GitHub"
   ]
  },
  {
   "cell_type": "markdown",
   "metadata": {},
   "source": [
    "### Exercise 11: Add the expression of a exogenous protein to the host-aware model for *E.coli*"
   ]
  }
 ],
 "metadata": {
  "colab": {
   "collapsed_sections": [],
   "provenance": []
  },
  "kernelspec": {
   "display_name": "Python 3 (ipykernel)",
   "language": "python",
   "name": "python3"
  },
  "language_info": {
   "codemirror_mode": {
    "name": "ipython",
    "version": 3
   },
   "file_extension": ".py",
   "mimetype": "text/x-python",
   "name": "python",
   "nbconvert_exporter": "python",
   "pygments_lexer": "ipython3",
   "version": "3.7.2"
  }
 },
 "nbformat": 4,
 "nbformat_minor": 1
}
